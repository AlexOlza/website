{
  "nbformat": 4,
  "nbformat_minor": 0,
  "metadata": {
    "colab": {
      "name": "tarea2-tsp-alexolza.ipynb",
      "provenance": [],
      "collapsed_sections": []
    },
    "kernelspec": {
      "display_name": "Python 3",
      "name": "python3"
    }
  },
  "cells": [
    {
      "cell_type": "markdown",
      "metadata": {
        "id": "dKtTIVVFizTM"
      },
      "source": [
        "\n",
        "\n",
        "---\n",
        "#**TCO: Tarea 2- EL VIAJANTE DE COMERCIO**\n",
        " Alexander Olza Rodriguez\n",
        "\n",
        "\n",
        "---\n",
        "\n",
        "\n"
      ]
    },
    {
      "cell_type": "markdown",
      "metadata": {
        "id": "jfBMJN2ij7Zu"
      },
      "source": [
        "**Definición del problema:**\n",
        "\n",
        "El problema del viajante de comercio (TSP) halla el recorrido óptimo entre los nodos de un grafo exigiendo las siguientes propiedades:\n",
        "\n",
        "\n",
        "*   Todos los nodos han de visitarse una y sólo una vez\n",
        "*   El recorrido ha de ser cerrado, volviendo al final al nodo de origen\n",
        "\n",
        "Esto implica que no puede haber subtours.\n",
        "\n",
        "Habitualmente se busca la solución que minimice una matriz de costes dada. En una aplicación práctica, los elementos $c_{ij}$ de esta matriz pueden ser distancias entre ciudades en una ruta, pero también tiene otras aplicaciones (por ejemplo, EJEMPLO).\n",
        "\n",
        "\n",
        "\n"
      ]
    },
    {
      "cell_type": "code",
      "metadata": {
        "colab": {
          "base_uri": "https://localhost:8080/"
        },
        "id": "Kz3d8aErix6d",
        "outputId": "ccd7a471-78c1-4f5a-b317-02c144f8b4c5"
      },
      "source": [
        "!pip install ortools\n",
        "from ortools.linear_solver import pywraplp"
      ],
      "execution_count": null,
      "outputs": [
        {
          "output_type": "stream",
          "text": [
            "Requirement already satisfied: ortools in /usr/local/lib/python3.6/dist-packages (8.1.8487)\n",
            "Requirement already satisfied: protobuf>=3.14.0 in /usr/local/lib/python3.6/dist-packages (from ortools) (3.14.0)\n",
            "Requirement already satisfied: absl-py>=0.11 in /usr/local/lib/python3.6/dist-packages (from ortools) (0.11.0)\n",
            "Requirement already satisfied: six>=1.9 in /usr/local/lib/python3.6/dist-packages (from protobuf>=3.14.0->ortools) (1.15.0)\n"
          ],
          "name": "stdout"
        }
      ]
    },
    {
      "cell_type": "code",
      "metadata": {
        "colab": {
          "base_uri": "https://localhost:8080/"
        },
        "id": "yTz8mRiImjO0",
        "outputId": "79fc4f08-941e-412e-d9d0-1bcbe1574057"
      },
      "source": [
        "n     = 25  #Con 50 no se ejecuta bien, a pesar de que el modelo está bien planteado\n",
        "todos = range(n)\n",
        "otros = range(1,n)\n",
        "EPS   = 0.00001\n",
        "\n",
        "import random\n",
        "random.seed(12345)\n",
        "distancias  = { (i,j) : random.randint(1,100) for i in todos for j in todos if i!=j }\n",
        "print('done')"
      ],
      "execution_count": null,
      "outputs": [
        {
          "output_type": "stream",
          "text": [
            "done\n"
          ],
          "name": "stdout"
        }
      ]
    },
    {
      "cell_type": "markdown",
      "metadata": {
        "id": "EtuFCH6C6Qul"
      },
      "source": [
        "Para introducir el modelo que he elegido, podemos considerar el TSP de la siguiente manera:\n",
        "\n",
        "Imaginemos un grupo de $n-1$ viajeros de $n-1$ nacionalidades distintas (por lo tanto son viajeros distinguibles) a bordo de un autobús. El autobús ha de recorrer todos los países, dejando a cada viajero en su hogar, y volver vacío al punto de partida, de forma que en total visite $n$ lugares.\n",
        "\n",
        "Esto es sólo una interpretación, y las siguientes variables son aplicables al TSP en general.\n",
        "\n",
        "Sean estas las variables del problema:\n",
        "\n",
        "$ x_{ij} = \\left \\{\n",
        "\\begin{array}{ll}\n",
        "      1 & \\textrm{si viajo por la carretera } (i,j) \\\\\n",
        "      0 & \\textrm{en otro caso} \\\\\n",
        "\\end{array} \n",
        "\\right.$ \\\\\n",
        "\n",
        "$ f_{ij}^k = \\left \\{\n",
        "\\begin{array}{ll}\n",
        "      1 & \\textrm{si el viajero $k$ sigue a bordo cuando voy por la carretera } (i,j) \\\\\n",
        "      0 & \\textrm{en otro caso} \\\\\n",
        "\\end{array} \n",
        "\\right.$ \\\\\n"
      ]
    },
    {
      "cell_type": "code",
      "metadata": {
        "colab": {
          "base_uri": "https://localhost:8080/"
        },
        "id": "gqiJm0hW8wkC",
        "outputId": "f789bb9a-6584-4b37-f01f-8f6900f58a74"
      },
      "source": [
        "#solver =pywraplp.Solver('ATSP2xIP', pywraplp.Solver.CBC_MIXED_INTEGER_PROGRAMMING)\n",
        "#solver=pywraplp.Solver.CreateSolver('CBC')\n",
        "#solver= pywraplp.Solver('ViajerosInternacionales',  pywraplp.Solver.BOP_INTEGER_PROGRAMMING )#el limite es 14 con opt 132, 0.591  seconds\n",
        "solver = pywraplp.Solver.CreateSolver('SCIP') #25 nodes 25.79  seconds, optimal 165: vs profesor con CBC modelo con  f opt= 165.0  en  0.566 seconds\n",
        "x = { (i,j) : solver.BoolVar('carretera[%i, %i]' % (i, j)) for i in todos for j in todos if j!=i}\n",
        "f = {(i,j,k): solver.BoolVar('presente[%i,%i,%i]'%(k,i,j)) for k in otros for i in todos for j in todos if j!=i}\n",
        "print('ok')"
      ],
      "execution_count": null,
      "outputs": [
        {
          "output_type": "stream",
          "text": [
            "ok\n"
          ],
          "name": "stdout"
        }
      ]
    },
    {
      "cell_type": "markdown",
      "metadata": {
        "id": "AiUR-H8x_pbu"
      },
      "source": [
        "La función objetivo a minimizar podría ser la distancia por carretera en toda la ruta. No tiene por qué ser simétrica, ya que podría tratarse de carreteras unidireccionales. Naturalmente, sólo suman las distancias de las carreteras por las que elija transitar, y esto se manifiesta en el producto por $x_{ij}$.\n",
        "\n",
        "**minimizar** $\\sum_{i,j\\ne i}c_{ij}x_{ij}$"
      ]
    },
    {
      "cell_type": "code",
      "metadata": {
        "colab": {
          "base_uri": "https://localhost:8080/"
        },
        "id": "5j7vKAb2ArnM",
        "outputId": "3d614bea-9fda-417c-ce66-a0a34570a9a2"
      },
      "source": [
        "solver.Minimize(solver.Sum( distancias[i,j]*x[i,j] for i,j in distancias.keys()))\n",
        "print('ok')"
      ],
      "execution_count": null,
      "outputs": [
        {
          "output_type": "stream",
          "text": [
            "ok\n"
          ],
          "name": "stdout"
        }
      ]
    },
    {
      "cell_type": "markdown",
      "metadata": {
        "id": "uYu8chyvs73k"
      },
      "source": [
        "Ahora planteamos las restricciones del modelo.\n",
        "\n",
        "\n",
        "\n",
        "* **A)** Desde cada origen $i$ hay que salir hacia algún destino $j$:\n",
        "\n",
        "  $\\sum_j x_{ij}=1 \\quad\\forall i$\n",
        "* **B)** A cada destino $j$ hay que llegar desde algún origen $i$:\n",
        "\n",
        "  $\\sum_i x_{ij}=1 \\quad\\forall j$\n",
        "\n",
        "\n",
        "* **C)**  Al principio todos los viajeros ($\\forall k$) salen del origen ($i=0$) hacia algún lugar desconocido $j$:\n",
        "\n",
        "    $\\sum_{j} f_{0j}^k=1\\quad \\forall k$\n",
        "\n",
        "* **D)** Ningún viajero vuelve al lugar de origen ($j=0$) al final del tour: \n",
        "\n",
        "  $\\sum_{i} f_{i0}^k=0\\quad \\forall k$\n",
        "\n",
        "\n",
        "\n",
        "* **E)** Cuando un pasajero llega a su país ($i=k$), se queda en él (no sale hacia ningún destino $j$):\n",
        "\n",
        "  $\\sum_{j\\ne k} f_{kj}^k=0\\quad \\forall k$\n",
        "* **F)** Si el pasajero $k$ entra a un país $i\\ne k$ que no es el suyo (y puede haber llegado desde cualquier $j$), también saldrá de $i$ hacia algún otro país $j$:\n",
        "\n",
        "  $\\sum_jf_{ji}^k=\\sum_jf_{ij}^k\\quad \\forall i\\ne k, i\\ne 1; \\forall k$\n",
        "\n",
        "* **G)** Conexión entre $f_{ji}^k$ y $x_{ij}$: \n",
        "\n",
        "  Si el autobús no va por la carretera $(i,j)$, ningún viajero va por esa carretera: $x_{ij}=0\\Rightarrow f_{ji}^k=0 \\forall k$. Si el autobús va por esa carretera, el viajero $k$ puede estar presente o no: $x_{ij}=1\\Rightarrow f_{ji}^k=0, 1$. En conjunto,\n",
        "\n",
        "  $f_{ji}^k\\le x_{ij}$\n",
        "\n",
        "\n",
        "\n",
        "A continuación implementamos estas restricciones.\n",
        "\n"
      ]
    },
    {
      "cell_type": "code",
      "metadata": {
        "colab": {
          "base_uri": "https://localhost:8080/"
        },
        "id": "T6ghuwRH9Raw",
        "outputId": "ed7dbbd8-ca28-47ca-fb37-a09a17dccf38"
      },
      "source": [
        "[ solver.Add( solver.Sum( x[i,j] for j in todos if j!=i) == 1 , name='A')  for i in todos ]\n",
        "[ solver.Add( solver.Sum( x[i,j] for i in todos if j!=i) == 1 , name='B')  for j in todos ]\n",
        "[ solver.Add( solver.Sum(f[0,j,k] for j in otros) ==1 , name='C')  for k in otros ]\n",
        "[ solver.Add( solver.Sum(f[i,0,k] for i in otros if i!=k) ==0 , name='D')  for k in otros ]\n",
        "[ solver.Add( solver.Sum(f[k,j,k] for j in todos if j!=k) ==0 , name='E')  for k in otros ]\n",
        "[ solver.Add( solver.Sum(f[j,i,k] for j in todos if j!=i) == solver.Sum(f[i,j,k] for j in todos if j!=i) , name='F')  for i in otros for k in otros if i!=k ]#19\n",
        "[ solver.Add( f[i,j,k]<=x[i,j] ,name='G') for k in otros for i in todos for j in todos if j!=i ]\n",
        "print('Number of variables =', solver.NumVariables())\n",
        "print('Number of constraints =', solver.NumConstraints())\n",
        "print('ok')"
      ],
      "execution_count": null,
      "outputs": [
        {
          "output_type": "stream",
          "text": [
            "Number of variables = 15000\n",
            "Number of constraints = 15074\n",
            "ok\n"
          ],
          "name": "stdout"
        }
      ]
    },
    {
      "cell_type": "markdown",
      "metadata": {
        "id": "cmRMcdyZbk0g"
      },
      "source": [
        "Por último, se resuelve el problema y se muestra el tour elegido:"
      ]
    },
    {
      "cell_type": "code",
      "metadata": {
        "id": "Xg3mgr6IE8Au",
        "colab": {
          "base_uri": "https://localhost:8080/"
        },
        "outputId": "743e6596-119d-4707-fadb-0094a93ce65d"
      },
      "source": [
        "\n",
        "solver.Solve()\n",
        "#assert result_status == pywraplp.Solver.OPTIMAL\n",
        "  \n",
        "print('Number of variables =', solver.NumVariables())\n",
        "print('Number of constraints =', solver.NumConstraints())\n",
        "print( solver.WallTime()/1000, \" seconds\")\n",
        "print('Optimal objective value = %f' % solver.Objective().Value())\n",
        "  \n",
        "selected = []\n",
        "for i in todos:\n",
        "    for j in todos:\n",
        "       if j!=i:\n",
        "            if x[i,j].solution_value() > EPS :\n",
        "              selected.append((i,j))\n",
        "print('Optimal path: %s' % str(selected))\n",
        "print('ok')"
      ],
      "execution_count": null,
      "outputs": [
        {
          "output_type": "stream",
          "text": [
            "Number of variables = 15000\n",
            "Number of constraints = 15074\n",
            "29.866  seconds\n",
            "Optimal objective value = 165.000000\n",
            "Optimal path: [(0, 24), (1, 17), (2, 6), (3, 23), (4, 7), (5, 11), (6, 0), (7, 13), (8, 4), (9, 22), (10, 1), (11, 15), (12, 19), (13, 10), (14, 16), (15, 20), (16, 8), (17, 5), (18, 12), (19, 14), (20, 3), (21, 9), (22, 2), (23, 21), (24, 18)]\n",
            "ok\n"
          ],
          "name": "stdout"
        }
      ]
    }
  ]
}