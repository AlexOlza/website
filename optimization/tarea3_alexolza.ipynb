{
  "nbformat": 4,
  "nbformat_minor": 0,
  "metadata": {
    "colab": {
      "name": "tarea3-alexolza.ipynb",
      "provenance": [],
      "collapsed_sections": []
    },
    "kernelspec": {
      "name": "python3",
      "display_name": "Python 3"
    }
  },
  "cells": [
    {
      "cell_type": "markdown",
      "metadata": {
        "id": "n-yvXBcywyXz"
      },
      "source": [
        "\n",
        "\n",
        "---\n",
        "\n",
        "\n",
        "# **TCO- Tarea 3: PLANIFICACIÓN DE LA PRODUCCIÓN EN CENTRALES ELÉCTRICAS**\n",
        "\n",
        "Alexander Olza Rodriguez\n",
        "\n",
        "---\n",
        "\n",
        "\n",
        "\n"
      ]
    },
    {
      "cell_type": "markdown",
      "metadata": {
        "id": "3H2KSzFvxZo6"
      },
      "source": [
        "## **INTRODUCCIÓN: Descripción del problema**\n",
        "\n",
        "\n",
        "Supongamos que existen tres centrales eléctricas: Una nuclear, una eólica y una térmica. Cada una tiene diferentes costes y beneficios asociados: Hay un coste por poner en marcha o parar cada una de ellas, hay costes por funcionamiento, y distintos beneficios derivados de la producción de energía. Además, cada una de las centrales tiene una cierta capacidad de producción. Entre las tres, deben satisfacer la demanda horaria de un país.\n",
        "\n",
        "Se pretende planificar el funcionamiento y la producción de cada central en un intervalo de 24 horas. \n",
        "\n",
        "Nos encontramos ante un problema de programación lineal entera mixta (MIP): Contiene variables continuas (la producción de cada planta en cada periodo) y binarias (las decisiones de apagar, encender o mantener funcionando cada planta en cada periodo)."
      ]
    },
    {
      "cell_type": "markdown",
      "metadata": {
        "id": "5jDE3uQ0jRTY"
      },
      "source": [
        "### **RESUMEN DE PARÁMETROS:**\n",
        "\n",
        "\n",
        "---\n",
        "**VARIABLES:**\n",
        "\n",
        "$ y_{jk} =\\left \\{\n",
        "\\begin{array}{ll}\n",
        "      1 & \\textrm{si la central $j$ se enciende al inicio del periodo $k$ } \\\\\n",
        "      0 & \\textrm{en otro caso} \\\\\n",
        "\\end{array} \n",
        "\\right.$ \\\\\n",
        "\n",
        "$ z_{jk} =\\left \\{\n",
        "\\begin{array}{ll}\n",
        "      1 & \\textrm{si la central $j$ se apaga al inicio del periodo $k$ } \\\\\n",
        "      0 & \\textrm{en otro caso} \\\\\n",
        "\\end{array} \n",
        "\\right.$ \\\\\n",
        "\n",
        "$ v_{jk} =\\left \\{\n",
        "\\begin{array}{ll}\n",
        "      1 & \\textrm{si la central $j$ está funcionando en el periodo $k$ } \\\\\n",
        "      0 & \\textrm{en otro caso} \\\\\n",
        "\\end{array} \n",
        "\\right.$ \\\\\n",
        "\n",
        "$ p_{jk} \\geq 0\\quad \\textrm{producción de la central $j$ en el periodo $k$}$  \\\\\n",
        "\n",
        "**DATOS:**\n",
        "\n",
        "- $PMax_j$: Capacidad máxima de producción de la central $j$.\n",
        "- $Pmin_j$: Capacidad mínima de producción de la central $j$.\n",
        "- $S_j$: Rampa máxima de subida de carga en la central $j$ \n",
        "\n",
        "  (Definición: Máximo incremento de potencia permitido entre periodos consecutivos).\n",
        "- $T_j$: Rampa máxima de bajada de carga en la central $j$\n",
        "\n",
        " (Def.: Máximo decremento permitido entre periodos consecutivos).\n",
        "- $C_j$: Coste de arranque de la central $j$.\n",
        "- $E_j$: Coste de parada de la central $j$.\n",
        "- $A_j$: Coste de funcionamiento horario de la central $j$.\n",
        "- $B_j$: Beneficio por unidad de energía producida en la central $j$.\n",
        "- $D_k$: Demanda de energía en el periodo $k$.\n",
        "- $R_k$: Reserva de energía en el periodo $k$.\n"
      ]
    },
    {
      "cell_type": "markdown",
      "metadata": {
        "id": "HOFFq7G3zjR9"
      },
      "source": [
        "### **DATOS CONCRETOS: Capacidad de producción, demanda, costes y beneficios**\n",
        "\n",
        "---\n",
        "\n"
      ]
    },
    {
      "cell_type": "markdown",
      "metadata": {
        "id": "wsi2aFN-0SG3"
      },
      "source": [
        "Se ha tomado la demanda horaria programada de la red eléctrica española peninsular, entre las 21:00 del 10-12-2020 y las 21:00 del 11-12-2020. Los datos están en unidades de 1000 MW."
      ]
    },
    {
      "cell_type": "code",
      "metadata": {
        "id": "I67Fv7_uq_mw"
      },
      "source": [
        "demandas=[0,35.772,32.850,29.316,26.999,25.086,24.319,\n",
        "          23.627,23.419,24.095,27.184,31.694,33.905,\n",
        "          35.022,35.481,35.904,34.118,34.982,34.136,\n",
        "          33.012,32.559,32.811,34.185,34.576,34.696] #25 periodos, k=0,...,24"
      ],
      "execution_count": 1,
      "outputs": []
    },
    {
      "cell_type": "markdown",
      "metadata": {
        "id": "YSIJ8LbAiopa"
      },
      "source": [
        "El resto de los datos han sido arbitrariamente escogidos, siguiendo las consideraciones que se presentan a continuación.\n",
        "\n",
        "La **central nuclear** tiene una gran capacidad de producción, con $PMax_0=35$ y $Pmin_0=20$, las más altas. El coste de arranque, de parada y de funcionamiento también es elevado: $C_0=20$, $E_0=1$, $A_0=10$. Supongamos que se considera una fuente de energía neutra, para la que no existen ayudas pero tampoco cuotas extra. Por lo tanto, el beneficio obtenido al producir energía nuclear es medio: $B_0=2.3$. La potencia puede aumentar $S_0=25$ unidades o descender $T_0=13$ unidades entre periodos consecutivos.\n",
        "\n",
        "La **central eólica** tiene baja capacidad de producción en comparación ($Pmin_1=7,PMax_1=20$) y bajo coste de arranque, parada y  funcionamiento ($C_1=5$, $E_1=0.3$, $A_1=4$). Al ser energía renovable, existen ayudas para promocionarla y su beneficio es mayor ($B_1=5.5$). La potencia puede aumentar $S_1=7$ unidades o descender $T_1=15$ unidades entre periodos consecutivos.\n",
        "\n",
        "\n",
        "La **central térmica** tiene capacidad de producción media-alta ($Pmin_2=13, PMax_2=27$). Sus costes de arranque, parada y funcionamiento son intermedios ($C_2=17,E_2=0.5,A_2=6$). Existen impuestos adicionales por producción contaminante, así que el beneficio es el más bajo ($B_2=1.15$). La potencia puede aumentar $S_2=17$ unidades o descender $T_2=13$ unidades entre periodos consecutivos.\n",
        "\n",
        "\n",
        "\n"
      ]
    },
    {
      "cell_type": "code",
      "metadata": {
        "id": "Q1T1_y38bGzf"
      },
      "source": [
        "PMax=[35,20,27]\n",
        "Pmin=[20,7,13]\n",
        "Subida=[25,7,17]\n",
        "Bajada=[13,15,13]\n",
        "A=[10,4,6] #coste fijo funcionamiento\n",
        "C=[20,5,17] #coste arranque\n",
        "E=[1.0,0.3,0.5] #coste parada\n",
        "B=[2.3,5.5,1.15] #beneficio variable (produccion)"
      ],
      "execution_count": 2,
      "outputs": []
    },
    {
      "cell_type": "markdown",
      "metadata": {
        "id": "12Vyu321sLKJ"
      },
      "source": [
        "### **RESTRICCIONES:** \n",
        "\n",
        "---\n",
        "\n"
      ]
    },
    {
      "cell_type": "markdown",
      "metadata": {
        "id": "BlHY8cFl1V_N"
      },
      "source": [
        "- Al inicio, todas las centrales están paradas. No hay demanda ni producción.\n",
        "\n",
        "  $y_{j0}=z_{j0}=v_{j0}=p_{j0}=0\\quad \\forall j$ \n",
        "\n",
        "- Siempre que una central esté funcionando, su potencia (productividad horaria) debe estar entre dos umbrales ($ PMax$ y $Pmin$):\n",
        "\n",
        " $ Pmin_jv_{jk}\\leq p_{jk}\\leq PMax_jv_{jk}\\quad \\forall j; \\forall k$.\n",
        "-Entre periodos consecutivos, el incremento de producción no debe sobrepasar un límite $S_j$, llamado rampa máxima de subida de carga:\n",
        "\n",
        "  $p_{jk+1}-p_{jk}\\leq S_j\\quad \\forall j; k=0,...,K-1$\n",
        "\n",
        "- Análogamente, el decremento de producción ha de ser menor que $T_j$, la rampa máxima de bajada de carga:\n",
        "\n",
        "  $p_{jk}-p_{jk+1}\\leq T_j\\quad \\forall j; k=0,...,K-1$ \n",
        "\n",
        "- Los cambios de estado deben ser coherentes con la variable de funcionamiento. Si la central se enciende en el periodo $k$, estará funcionando en el periodo $k$ y no lo estará en el $k-1$. Si se apaga en el periodo $k$, debe haber funcionado en el $k-1$ y no funcionará en el $k$:\n",
        "\n",
        "  $y_{jk}-z_{jk}=v_{jk}-v_{jk-1}\\quad \\forall j; k=1,...,K$\n",
        "\n",
        "- Entre todas las centrales deben satisfacer la demanda de cada periodo:\n",
        "\n",
        "  $\\sum_j p_{jk}=D_k \\quad \\forall j,k$\n",
        "\n",
        "- La potencia máxima total de las centrales en funcionamiento debe superar la demanda, al menos, en una cantidad de reserva $R_k$, que se ha fijado en un 10% de la demanda prevista. Teniendo en cuenta la restricción anterior, esto evita que todas las centrales encendidas estén funcionando simultáneamente a máxima potencia.\n",
        "\n",
        "  $\\sum_jPMax_jv_{jk}\\geq D_k+R_k \\quad \\forall k$"
      ]
    },
    {
      "cell_type": "code",
      "metadata": {
        "id": "hCYu8k5bto8Y"
      },
      "source": [
        "reservas=[]\n",
        "for i in range(len(demandas)):\n",
        "  reservas.append(demandas[i]*0.1)#10% de las demandas\n",
        "\n",
        "J=3 #Tres centrales\n",
        "periodos=range(len(demandas)) #k=0,...,24\n",
        "centrales=range(J)\n",
        "matriz = { (j,k) : 0 for k in periodos for j in centrales if k!=0} #Matriz sin significado, utilizada como un iterable matriz.keys()"
      ],
      "execution_count": 3,
      "outputs": []
    },
    {
      "cell_type": "markdown",
      "metadata": {
        "id": "E4X7xOKxc4eP"
      },
      "source": [
        "### **FUNCIÓN OBJETIVO:**\n",
        "\n",
        "---\n",
        "\n",
        "Se busca minimizar los costes de funcionamiento, arranque y parada, restando el beneficio de producción.\n",
        "\n",
        "Se produce un coste $C_j$ cada vez que se enciende la central $j$, $E_j$ cada vez que se apaga y $A_j$ por cada hora que se mantiene en funcionamiento.\n",
        "$A_j$ es una cantidad fija, no relacionada con la producción sino con el mero hecho de estar funcionando. Por ejemplo, podría tratarse de los gastos de personal. \n",
        "\n",
        "Además, por cada unidad de energía producida en la central $j$ se recibe un beneficio neto $B_j$, donde ya se han descontado implícitamente los costes de producción.\n",
        "\n",
        "$min\\quad Z=\\sum_k\\sum_j [A_jv_{jk}+C_jy_{jk}+E_jz_{jk}-B_jp_{jk}]$\n"
      ]
    },
    {
      "cell_type": "markdown",
      "metadata": {
        "id": "zT9sKMmfuBg4"
      },
      "source": [
        "## **SOLUCIÓN:** \n",
        "\n",
        "---\n",
        "\n"
      ]
    },
    {
      "cell_type": "code",
      "metadata": {
        "colab": {
          "base_uri": "https://localhost:8080/",
          "height": 469
        },
        "id": "_S6AX2xia7vE",
        "outputId": "2cc65958-073d-4a2e-e900-4f37148fa1be"
      },
      "source": [
        "!pip install ortools\n",
        "from ortools.linear_solver import pywraplp"
      ],
      "execution_count": 4,
      "outputs": [
        {
          "output_type": "stream",
          "text": [
            "Collecting ortools\n",
            "\u001b[?25l  Downloading https://files.pythonhosted.org/packages/63/94/2832edee6f4fb4e77e8585b6034f9506be24361fe6ead4e76de38ab0a666/ortools-8.1.8487-cp36-cp36m-manylinux1_x86_64.whl (14.0MB)\n",
            "\u001b[K     |████████████████████████████████| 14.0MB 301kB/s \n",
            "\u001b[?25hCollecting protobuf>=3.14.0\n",
            "\u001b[?25l  Downloading https://files.pythonhosted.org/packages/fe/fd/247ef25f5ec5f9acecfbc98ca3c6aaf66716cf52509aca9a93583d410493/protobuf-3.14.0-cp36-cp36m-manylinux1_x86_64.whl (1.0MB)\n",
            "\u001b[K     |████████████████████████████████| 1.0MB 34.7MB/s \n",
            "\u001b[?25hCollecting absl-py>=0.11\n",
            "\u001b[?25l  Downloading https://files.pythonhosted.org/packages/bc/58/0aa6fb779dc69cfc811df3398fcbeaeefbf18561b6e36b185df0782781cc/absl_py-0.11.0-py3-none-any.whl (127kB)\n",
            "\u001b[K     |████████████████████████████████| 133kB 37.4MB/s \n",
            "\u001b[?25hRequirement already satisfied: six>=1.9 in /usr/local/lib/python3.6/dist-packages (from protobuf>=3.14.0->ortools) (1.15.0)\n",
            "\u001b[31mERROR: tensorflow-metadata 0.26.0 has requirement absl-py<0.11,>=0.9, but you'll have absl-py 0.11.0 which is incompatible.\u001b[0m\n",
            "Installing collected packages: protobuf, absl-py, ortools\n",
            "  Found existing installation: protobuf 3.12.4\n",
            "    Uninstalling protobuf-3.12.4:\n",
            "      Successfully uninstalled protobuf-3.12.4\n",
            "  Found existing installation: absl-py 0.10.0\n",
            "    Uninstalling absl-py-0.10.0:\n",
            "      Successfully uninstalled absl-py-0.10.0\n",
            "Successfully installed absl-py-0.11.0 ortools-8.1.8487 protobuf-3.14.0\n"
          ],
          "name": "stdout"
        },
        {
          "output_type": "display_data",
          "data": {
            "application/vnd.colab-display-data+json": {
              "pip_warning": {
                "packages": [
                  "google"
                ]
              }
            }
          },
          "metadata": {
            "tags": []
          }
        }
      ]
    },
    {
      "cell_type": "code",
      "metadata": {
        "colab": {
          "base_uri": "https://localhost:8080/"
        },
        "id": "rV6AbqQknEg_",
        "outputId": "6c7930e9-09a1-4302-90ef-9c7f0fdfecbb"
      },
      "source": [
        "#solver=pywraplp.Solver.CreateSolver('CBC') #no funciona\n",
        "solver = pywraplp.Solver.CreateSolver('SCIP')\n",
        "y = { (j,k) : solver.BoolVar('arranque[%i, %i]' % (j, k)) for j in centrales for k in periodos}\n",
        "z = {(j,k): solver.BoolVar('parada[%i,%i]'%(j,k)) for j in centrales for k in periodos}\n",
        "v = {(j,k): solver.BoolVar('funciona[%i,%i]'%(j,k)) for j in centrales for k in periodos}\n",
        "p = {(j,k): solver.NumVar(0,solver.infinity(),name='produccion[%i,%i]'%(j,k)) for j in centrales for k in periodos}\n",
        "\n",
        "solver.Minimize(solver.Sum(A[j]*v[j,k]-B[j]*p[j,k]+C[j]*y[j,k]+E[j]*z[j,k] for j,k in matriz.keys())) #Objetivo\n",
        "\n",
        "print('Number of variables =', solver.NumVariables())"
      ],
      "execution_count": 5,
      "outputs": [
        {
          "output_type": "stream",
          "text": [
            "Number of variables = 300\n"
          ],
          "name": "stdout"
        }
      ]
    },
    {
      "cell_type": "code",
      "metadata": {
        "colab": {
          "base_uri": "https://localhost:8080/"
        },
        "id": "L23vkZVP-iIi",
        "outputId": "429604b3-87f0-4f40-997b-824b8dd8c078"
      },
      "source": [
        "#Inicialización: Todas las centrales están apagadas (las variables para k=0 están fijas)\n",
        "[ solver.Add(y[j,0]==0) for j in centrales]\n",
        "[ solver.Add(z[j,0]==0) for j in centrales]\n",
        "[ solver.Add(p[j,0]==0) for j in centrales]\n",
        "[ solver.Add(v[j,0]==0) for j in centrales]\n",
        "print('Number of constraints =', solver.NumConstraints())"
      ],
      "execution_count": 6,
      "outputs": [
        {
          "output_type": "stream",
          "text": [
            "Number of constraints = 12\n"
          ],
          "name": "stdout"
        }
      ]
    },
    {
      "cell_type": "code",
      "metadata": {
        "colab": {
          "base_uri": "https://localhost:8080/"
        },
        "id": "LsmAbxDzxCJq",
        "outputId": "c900ddc9-795a-4693-b188-c6f2b4bbaea6"
      },
      "source": [
        "#Resto de restricciones\n",
        "[ solver.Add( Pmin[j]*v[j,k]<=p[j,k] , name='Prod minima')  for j in centrales for k in periodos]\n",
        "[ solver.Add( p[j,k]<=PMax[j]*v[j,k] , name='Prod maxima')  for j in centrales for k in periodos]\n",
        "[ solver.Add( p[j,k+1]-p[j,k]<=Subida[j], name='Subida') for j in centrales for k in periodos if k!=max(periodos)]\n",
        "[ solver.Add( p[j,k]-p[j,k+1]<=Bajada[j], name='Bajada') for j in centrales for k in periodos if k!=max(periodos)]\n",
        "[ solver.Add( y[j,k]-z[j,k]==v[j,k]-v[j,k-1], name='Estado') for j in centrales for k in periodos if k!=0]\n",
        "[ solver.Add(solver.Sum(p[j,k] for j in centrales)==demandas[k], name='Demanda') for k in periodos ]\n",
        "[ solver.Add(solver.Sum(PMax[j]*v[j,k] for j in centrales)>=demandas[k]+reservas[k]) for k in periodos]\n",
        "print('Number of constraints =', solver.NumConstraints())"
      ],
      "execution_count": 7,
      "outputs": [
        {
          "output_type": "stream",
          "text": [
            "Number of constraints = 428\n"
          ],
          "name": "stdout"
        }
      ]
    },
    {
      "cell_type": "code",
      "metadata": {
        "colab": {
          "base_uri": "https://localhost:8080/"
        },
        "id": "M3hfhs5S1rda",
        "outputId": "daa9205b-cc03-4db3-c73c-d6bcbecc9769"
      },
      "source": [
        "#Solución\n",
        "solver.Solve()"
      ],
      "execution_count": 8,
      "outputs": [
        {
          "output_type": "execute_result",
          "data": {
            "text/plain": [
              "0"
            ]
          },
          "metadata": {
            "tags": []
          },
          "execution_count": 8
        }
      ]
    },
    {
      "cell_type": "markdown",
      "metadata": {
        "id": "HxbTEaojuTwJ"
      },
      "source": [
        "## **RESULTADO:** \n",
        "\n",
        "---\n",
        "\n"
      ]
    },
    {
      "cell_type": "code",
      "metadata": {
        "colab": {
          "base_uri": "https://localhost:8080/"
        },
        "id": "rvxHXjl1A6yf",
        "outputId": "5617ce0b-47f1-4210-bf7c-7799d84c2f62"
      },
      "source": [
        "result_status = solver.Solve()\n",
        "print('Infactible? ', result_status== pywraplp.Solver.INFEASIBLE)\n",
        "print('Optimo? ',result_status== pywraplp.Solver.OPTIMAL)\n",
        "print( solver.WallTime()/1000, \" seconds\")\n",
        "print('Coste = %f' % solver.Objective().Value())\n",
        "enciende=[]\n",
        "apaga=[]\n",
        "produccion=[]\n",
        "for (cent,per) in matriz.keys():\n",
        "            if y[cent,per].solution_value() > 0.01 :\n",
        "              enciende.append((cent,per))\n",
        "            if z[cent,per].solution_value() > 0.01 :\n",
        "              apaga.append((cent,per))\n",
        "\n",
        "for per in periodos:\n",
        "  produccion.append((per,p[0,per].solution_value(),p[1,per].solution_value(),p[2,per].solution_value()))\n",
        "   # print(\"xij=\",xij)\n",
        "print('Arranques: %s' % sorted(enciende,key=lambda x: x[0]))\n",
        "print('Paradas: %s' % sorted(apaga,key=lambda x: x[0]))\n",
        "\n",
        "from tabulate import tabulate\n",
        "print(tabulate(produccion, headers=['Periodo','Nuclear', 'Eólica','Térmica']))"
      ],
      "execution_count": 9,
      "outputs": [
        {
          "output_type": "stream",
          "text": [
            "Infactible?  False\n",
            "Optimo?  True\n",
            "19.083  seconds\n",
            "Coste = -2052.940800\n",
            "Arranques: [(0, 1), (1, 2), (1, 10), (2, 1)]\n",
            "Paradas: [(1, 4), (2, 2)]\n",
            "  Periodo    Nuclear    Eólica    Térmica\n",
            "---------  ---------  --------  ---------\n",
            "        0      0         0              0\n",
            "        1     22.772     0             13\n",
            "        2     25.85      7              0\n",
            "        3     20         9.316          0\n",
            "        4     26.999     0              0\n",
            "        5     25.086     0              0\n",
            "        6     24.319     0              0\n",
            "        7     23.627     0              0\n",
            "        8     23.419     0              0\n",
            "        9     24.095     0              0\n",
            "       10     20.184     7              0\n",
            "       11     20        11.694          0\n",
            "       12     20        13.905          0\n",
            "       13     20        15.022          0\n",
            "       14     20        15.481          0\n",
            "       15     20        15.904          0\n",
            "       16     20        14.118          0\n",
            "       17     20        14.982          0\n",
            "       18     20        14.136          0\n",
            "       19     20        13.012          0\n",
            "       20     20        12.559          0\n",
            "       21     20        12.811          0\n",
            "       22     20        14.185          0\n",
            "       23     20        14.576          0\n",
            "       24     20        14.696          0\n"
          ],
          "name": "stdout"
        }
      ]
    },
    {
      "cell_type": "markdown",
      "metadata": {
        "id": "kzNdd_cMtbhV"
      },
      "source": [
        "**Comentarios sobre el resultado**\n",
        "\n",
        "---\n",
        "\n",
        "\n",
        "\n",
        "En el primer periodo se encienden la central nuclear y la térmica (con su producción mínima). Esto se debe a que la demanda es tan alta que la rampa de subida de carga máxima de la central eólica (7) es demasiado baja como para completar la demanda junto con la nuclear. \n",
        "\n",
        "Para el segundo periodo, la demanda ha bajado y puede apagarse la central térmica, sustituyéndola por la eólica con el máximo permitido por su rampa de subida. \n",
        "\n",
        "En el tercer periodo se reduce la producción nuclear al mínimo, explotando las subvenciones por energía eólica.\n",
        "\n",
        "En los periodos 4-9 la demanda es demasiado baja como para mantener la central nuclear y la eólica encendidas, ni siquiera con su producción mínima. Sin embargo es demasiado alta como para que la central eólica pueda hacerse cargo en solitario. Por lo tanto, se deja encendida sólo la nuclear.\n",
        "\n",
        "En el periodo 10 la demanda sube lo suficiente como para encender de nuevo la eólica, que aprovecha toda su rampa de subida. La nuclear satisface el resto.\n",
        "\n",
        "A partir del periodo 11 se mantiene la energía nuclear en producción mínima y se cubre el resto con energía eólica, maximizando las subvenciones.\n",
        "\n",
        "Al final, tenemos un beneficio de 2052.9408 euros.\n"
      ]
    },
    {
      "cell_type": "markdown",
      "metadata": {
        "id": "sIdfuUybfadt"
      },
      "source": [
        "**REFERENCIAS:**\n",
        "\n",
        "---\n",
        "\n",
        "- Idea del problema (modificado): *Formulación y resolución de modelos de programación matemática en ingeniería y ciencia.* E. Castillo, A.J. Conejo, P. Pedregal, R.García y N. Alguacil. 2002.\n",
        "\n",
        "- Demandas eléctricas: https://demanda.ree.es/visiona/peninsula/demanda/total, fecha indicada.\n",
        "\n"
      ]
    }
  ]
}